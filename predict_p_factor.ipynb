{
 "cells": [
  {
   "cell_type": "code",
   "execution_count": 1,
   "id": "848e1f91-b0fd-4536-8cba-28d4169161f7",
   "metadata": {},
   "outputs": [],
   "source": [
    "from pathlib import Path\n",
    "\n",
    "import pandas as pd\n",
    "import numpy as np"
   ]
  },
  {
   "cell_type": "markdown",
   "id": "e7885dcc-cb54-477b-9412-cb5b5080e443",
   "metadata": {},
   "source": [
    "# Make a model with some selected features"
   ]
  },
  {
   "cell_type": "code",
   "execution_count": 2,
   "id": "dd031aa1-9c20-448c-8946-7a74f87babfc",
   "metadata": {},
   "outputs": [
    {
     "name": "stdout",
     "output_type": "stream",
     "text": [
      "Linear Regression:\n",
      "  Intercept: -0.1928839684629871\n",
      "  Slope: [-3.26295482e-04 -7.78492889e-05  1.00735082e-01  5.05912236e-02\n",
      "  1.56608715e-01  1.66604373e-01  1.09134812e-01]\n"
     ]
    }
   ],
   "source": [
    "all_features = pd.read_csv('derivatives/features.csv')\n",
    "all_features = all_features.assign(sex_num = lambda df_: df_.sex.astype('category').cat.codes)\n",
    "\n",
    "train = all_features.query(\"is_train\")\n",
    "\n",
    "# select whatever features you want\n",
    "selected_features = ['frontalpole', 'insula', 'sex_num', 'age',\n",
    "     'internalizing_mcelroy_harmonized_all_samples','externalizing_mcelroy_harmonized_all_samples', 'attention_mcelroy_harmonized_all_samples']\n",
    "\n",
    "# make sure p_factor is the last columns\n",
    "train_vars = train[selected_features+['p_factor']]\n",
    "# Import the LinearRegression type:\n",
    "from sklearn.linear_model import LinearRegression\n",
    "# LinearRegression requires a matrix whose columns are the variables and whose\n",
    "# final column is the value being predicted (the p_factor for us). We can\n",
    "# extract these columns straight from the dataframes we generated.\n",
    "train_matrix = train_vars.values\n",
    "# We need to exclude rows with NaNs for training:\n",
    "train_okrows = np.all(~np.isnan(train_matrix), axis=1)\n",
    "train_matrix = train_matrix[train_okrows]\n",
    "# Train the regression using the training matrix:\n",
    "lreg = LinearRegression()\n",
    "## the first argument should be a matrix with all independent variables, the second argument is just the dependent variable (p_factor)\n",
    "lreg.fit(train_matrix[:, :-1], train_matrix[:, -1])\n",
    "# Display the trained regression parameters:\n",
    "print(\"Linear Regression:\")\n",
    "print(\"  Intercept:\", lreg.intercept_)\n",
    "print(\"  Slope:\", lreg.coef_)"
   ]
  },
  {
   "cell_type": "markdown",
   "id": "4f8e9c18-f454-4e5f-90dc-91c086e554f3",
   "metadata": {},
   "source": [
    "# Step 2, predict p_factors"
   ]
  },
  {
   "cell_type": "code",
   "execution_count": 3,
   "id": "3b246163-0f81-4522-a569-bcab09ab0a45",
   "metadata": {},
   "outputs": [
    {
     "data": {
      "text/plain": [
       "array([-0.30360658, -0.969414  ,  0.31221589, -0.45371466,  0.0399214 ,\n",
       "       -0.502388  , -0.42456724, -0.33665134, -0.92076446, -0.37029047,\n",
       "       -0.24603552, -0.01222177, -0.29766459, -0.78452098, -0.59688223,\n",
       "       -0.14689261, -0.39826318, -0.84550078, -0.72390608, -0.46035806,\n",
       "       -0.7350664 ,  0.08211346, -0.90128309,  0.05984256,  0.04896632,\n",
       "       -0.15432427, -0.38992444, -0.29000443, -0.48081778, -0.88404854,\n",
       "       -0.22247465, -0.21025516, -0.66831231, -0.88929547, -0.24906538,\n",
       "       -0.40851094, -0.84649663, -0.0292612 , -0.75670648, -0.54236807,\n",
       "       -0.48237086, -0.28525764, -0.20605646, -0.73145974, -0.45607687,\n",
       "       -0.46998644, -0.35353482, -0.18367031, -0.40471803, -0.78266856,\n",
       "       -0.55084729,  0.12678766, -0.64193141, -0.42681566, -0.69402252,\n",
       "       -0.3690097 , -0.46515487, -0.54253069, -0.14672508, -0.28746823,\n",
       "       -0.53002118, -0.62191567, -0.45029618, -0.1403265 , -0.18612738,\n",
       "       -0.46880857, -0.64321208, -0.28439592, -0.72139207, -0.68472945,\n",
       "       -0.40650493, -0.65635242, -0.82488429, -0.74815172, -0.51195334,\n",
       "       -0.23060904, -0.75116973, -0.50716827, -0.16056813, -0.41089523,\n",
       "       -0.50781407, -0.44374393, -0.06260642, -0.75976743,  0.37937869,\n",
       "       -1.05419103, -0.1489394 , -0.41228949, -0.62314373, -0.93763134,\n",
       "       -0.84357261, -1.0074866 , -0.19342714,  0.50406979, -0.08741353,\n",
       "       -0.61440953, -0.20209771, -1.12598029, -0.55141305, -0.32757292,\n",
       "       -0.46493491, -0.32817055, -0.8026217 , -0.54232951, -0.55693153,\n",
       "       -0.49285111, -0.62935405, -0.35481152, -0.64953412, -0.52456408,\n",
       "       -0.25410472, -0.33315887,  0.01302806, -0.01517314, -1.05534996,\n",
       "       -0.61277943, -0.68953683, -0.06146894, -0.42403044, -0.77090323,\n",
       "       -0.13226765, -0.1040786 , -0.28384721,  0.04480649, -0.31142509,\n",
       "       -0.29163401, -0.71068171, -0.22797694, -0.11491643, -0.27013147,\n",
       "       -0.22953316, -0.1098991 , -0.44508883, -0.72844538, -0.82963443,\n",
       "       -0.6176186 , -0.32496439, -0.62351319, -0.94455171, -0.11193066,\n",
       "        0.22716907, -0.69280245, -0.13493029, -0.50704695, -0.26949907,\n",
       "       -0.0978698 , -0.1510567 , -0.66924668, -0.16918638, -0.80969895,\n",
       "       -0.15593746, -0.43742194, -0.25346287, -0.04928105,  0.2869763 ,\n",
       "       -0.48998985, -0.32904885, -0.30203528, -0.71988871, -0.26969949,\n",
       "       -0.22416529, -0.63965069, -0.7629181 , -0.50674811, -0.7486751 ,\n",
       "       -0.79324961, -0.34086122, -0.18130495, -0.49073478, -0.40370858,\n",
       "       -0.33800722, -0.38897832, -0.54080297,  0.19190711,  0.03299904,\n",
       "        0.09958251, -0.33368778, -0.64306787, -0.51154403, -0.67494577,\n",
       "       -0.65331085, -0.78630829, -0.94590424,  0.28779524, -0.00517824,\n",
       "       -0.40934835,  0.37229585, -0.53318058, -0.55761778, -0.4780639 ,\n",
       "       -0.56495483, -0.49919963, -0.26245293,  0.18036438, -0.23336017,\n",
       "       -0.65946899, -0.31789887, -0.20656648, -0.60074832, -0.59189449,\n",
       "       -0.05476881, -0.45667721, -0.08088011, -0.12763581, -0.63968576,\n",
       "       -0.76578731, -0.17270661,  0.04367689, -0.13479189, -0.6064046 ,\n",
       "       -0.33587827, -0.92851934, -0.45023914, -0.1198172 , -0.11876497,\n",
       "       -0.41756776, -0.54007989, -0.4411991 , -0.60046477, -0.09795079,\n",
       "       -0.47237192, -0.7485243 , -0.79446021, -0.76994183, -0.61836909,\n",
       "       -0.58866425, -0.75971932, -0.06356372, -0.65393858, -0.2687941 ,\n",
       "       -0.34248771, -0.72426577, -0.42978023, -0.75970154,  0.22567471,\n",
       "       -0.08939004, -0.22868932, -0.18634289, -0.07316392, -0.54089586,\n",
       "       -0.50632295,  0.03295885, -0.58272385, -0.60492029, -0.72500863,\n",
       "       -1.29405205, -0.63457302, -0.14685363, -0.75911689,  0.17491535,\n",
       "       -0.03361765, -0.77523644,  0.17799098, -1.07919692, -0.43086881,\n",
       "       -0.16170856, -0.20362362,  0.32790354, -0.55255898, -0.7707852 ,\n",
       "       -0.18817395, -0.74717578,  0.09433936, -0.40918359, -0.47642677,\n",
       "       -0.5039149 , -0.34074395, -0.17927865, -0.38104966, -0.35052055,\n",
       "       -0.02710599,  0.24177921, -0.41626898, -0.79033399, -0.64460055,\n",
       "       -0.55609946, -0.92922436, -0.59772656, -0.95669057, -0.4915056 ,\n",
       "       -0.01675541, -0.60772021, -0.09369835, -0.656622  ,  0.07357701,\n",
       "       -0.55635601, -0.77864772,  0.25836627, -0.39963196, -0.78622293,\n",
       "       -0.56681912, -0.56879558, -0.40169376, -0.58955922, -0.25961046,\n",
       "       -0.29896938, -0.27840883, -0.90959254, -1.2577943 , -0.41088736,\n",
       "       -0.71168589, -0.18994996, -0.22121895, -0.60061481, -0.89638647,\n",
       "       -0.83722492, -0.1137182 , -0.26809732, -0.49902284, -0.13550525,\n",
       "       -0.83890158,  0.10305959,  0.06514265, -0.8337859 , -0.44074447,\n",
       "       -0.5122708 , -0.47746633, -0.38542229,  0.07877281, -0.75039615,\n",
       "       -0.46730611, -0.71912208, -0.45956202, -0.18108412, -0.62854226,\n",
       "       -0.5830223 , -0.53244338, -0.57589307, -0.54326112, -0.42161654,\n",
       "       -0.27713958, -0.66838445, -0.40617541, -0.44230327, -0.48017352,\n",
       "       -0.64898613, -0.21779344, -0.3742078 , -0.43182423,  0.07122392,\n",
       "       -0.63693979, -0.87227528, -0.87684392, -0.34961359, -0.27338624,\n",
       "       -0.32741988, -0.31528256, -0.70665703, -0.67282093, -0.16649468,\n",
       "       -0.63726947, -0.81639333, -0.91474986, -0.28590837, -0.56499374,\n",
       "       -0.5261286 , -0.31753223,  0.06124802, -0.35733097, -0.17342628,\n",
       "       -0.38201733, -0.5063143 , -0.2949987 , -0.55441746, -0.53794275,\n",
       "       -0.26665219, -0.28771848, -0.5583884 , -0.3185948 , -0.83282534,\n",
       "       -1.03223235, -0.42454733, -0.59690476, -0.68022109, -0.87001609,\n",
       "       -0.92453589, -0.11532386, -1.08387744, -0.54299947, -0.89645522,\n",
       "       -0.2034949 , -0.14510192, -0.69614971, -0.60987184, -0.33193892,\n",
       "       -0.45823673, -0.4787775 , -0.57144433, -0.36440656, -0.31144957,\n",
       "       -0.72107385, -0.63293071, -0.49494759, -1.09796171, -0.44003587,\n",
       "       -0.65979258, -0.68880459, -0.50024497, -0.67781909, -0.3951955 ,\n",
       "        0.04678656, -0.86946436, -0.45240024, -0.14833189, -0.58554958,\n",
       "       -0.80274316, -0.26926433, -0.58065399, -0.97604848, -0.05125701,\n",
       "       -0.25333308, -0.59549887, -0.58659817, -0.57364548, -0.23835562,\n",
       "       -0.66368951, -0.58753993, -0.51885934, -0.37716878, -0.90111797,\n",
       "       -0.17088419, -0.65652812, -0.83826622, -0.27145641, -0.77715695,\n",
       "       -0.45501917, -0.11915095, -0.63052764, -0.20134527, -0.47123695,\n",
       "        0.08499449, -0.7896841 , -0.81183697, -0.04810293, -0.39166789,\n",
       "       -0.97216123, -0.18765574, -0.72813351, -0.14193971, -0.2969818 ,\n",
       "       -0.49675752, -0.49244229, -0.45878237, -0.43919823, -0.16904627,\n",
       "       -0.37139346, -0.67203392, -0.59824621, -0.30705862, -0.64012838,\n",
       "       -0.49495609,  0.01070752, -0.20458401, -0.0126745 , -0.57204548,\n",
       "       -0.57166088, -0.27289464, -0.49179083, -0.10667801,  0.01002263,\n",
       "       -0.0592284 , -0.24899584, -0.47641126, -0.2765095 , -1.09240938,\n",
       "       -0.55098282, -0.80317176, -0.07970241, -0.44536309, -0.36720211,\n",
       "       -0.57107051,  0.21647897, -0.53337735,  0.02151482, -0.09162116,\n",
       "       -0.05896436, -0.30004972,  0.04208656,  0.08602001, -0.55952365,\n",
       "       -0.45985109, -0.13284865, -0.79374715, -0.30755187, -0.45027271,\n",
       "        0.0084913 , -0.44604536, -0.97958143, -0.28996566, -0.77698609,\n",
       "       -0.76154874,  0.09443709, -0.89389503, -0.51033272, -0.40065341,\n",
       "       -0.71678469, -0.28171053, -0.82414238, -0.88925997, -0.93255731,\n",
       "       -0.34408778, -0.45651815,  0.01393844, -0.31409029, -0.24557652,\n",
       "       -0.56447298, -0.54410255, -0.56081467, -0.17925114, -0.40003682,\n",
       "       -0.15658703, -0.65982142, -0.69288964,  0.18468935, -0.18862741,\n",
       "       -0.48245358,  0.04186821, -0.43516671, -0.28989847, -0.98234183,\n",
       "       -0.28690492,  0.18094345, -0.27998682, -0.46917404, -0.39214203,\n",
       "       -0.27903189, -0.42649887,  0.27731861, -0.56277983, -0.29178658,\n",
       "       -0.16318167])"
      ]
     },
     "execution_count": 3,
     "metadata": {},
     "output_type": "execute_result"
    }
   ],
   "source": [
    "# We can apply the trained linear regression object `lreg` to the 1-column\n",
    "# matrix of ba1_surface_area values in the test_vars dataframe.\n",
    "test = all_features.query(\"not is_train\")\n",
    "\n",
    "# remove subjects with missing values!\n",
    "test = test.loc[:, selected_features  + ['subject_id']].dropna()\n",
    "\n",
    "test_matrix = test.loc[:, selected_features].values\n",
    "test_okrows = np.all(~np.isnan(test_matrix), axis=1)\n",
    "test_matrix = test_matrix[test_okrows]\n",
    "# Apply the model:\n",
    "p_factor_predictions = lreg.predict(test_matrix)\n",
    "# Display the predictions:\n",
    "p_factor_predictions"
   ]
  },
  {
   "cell_type": "code",
   "execution_count": 4,
   "id": "c0f297e9-23ab-4042-a03d-392a01ec9403",
   "metadata": {},
   "outputs": [
    {
     "data": {
      "text/html": [
       "<div>\n",
       "<style scoped>\n",
       "    .dataframe tbody tr th:only-of-type {\n",
       "        vertical-align: middle;\n",
       "    }\n",
       "\n",
       "    .dataframe tbody tr th {\n",
       "        vertical-align: top;\n",
       "    }\n",
       "\n",
       "    .dataframe thead th {\n",
       "        text-align: right;\n",
       "    }\n",
       "</style>\n",
       "<table border=\"1\" class=\"dataframe\">\n",
       "  <thead>\n",
       "    <tr style=\"text-align: right;\">\n",
       "      <th></th>\n",
       "      <th>subject_id</th>\n",
       "      <th>predicted_p_factor</th>\n",
       "    </tr>\n",
       "  </thead>\n",
       "  <tbody>\n",
       "    <tr>\n",
       "      <th>1060</th>\n",
       "      <td>sub-1000881804</td>\n",
       "      <td>-0.303607</td>\n",
       "    </tr>\n",
       "    <tr>\n",
       "      <th>1061</th>\n",
       "      <td>sub-100527940</td>\n",
       "      <td>-0.969414</td>\n",
       "    </tr>\n",
       "    <tr>\n",
       "      <th>1062</th>\n",
       "      <td>sub-1006151876</td>\n",
       "      <td>0.312216</td>\n",
       "    </tr>\n",
       "    <tr>\n",
       "      <th>1063</th>\n",
       "      <td>sub-1012530688</td>\n",
       "      <td>-0.453715</td>\n",
       "    </tr>\n",
       "    <tr>\n",
       "      <th>1064</th>\n",
       "      <td>sub-1030193285</td>\n",
       "      <td>0.039921</td>\n",
       "    </tr>\n",
       "    <tr>\n",
       "      <th>...</th>\n",
       "      <td>...</td>\n",
       "      <td>...</td>\n",
       "    </tr>\n",
       "    <tr>\n",
       "      <th>1587</th>\n",
       "      <td>sub-969649154</td>\n",
       "      <td>-0.426499</td>\n",
       "    </tr>\n",
       "    <tr>\n",
       "      <th>1588</th>\n",
       "      <td>sub-970890500</td>\n",
       "      <td>0.277319</td>\n",
       "    </tr>\n",
       "    <tr>\n",
       "      <th>1589</th>\n",
       "      <td>sub-975856179</td>\n",
       "      <td>-0.562780</td>\n",
       "    </tr>\n",
       "    <tr>\n",
       "      <th>1590</th>\n",
       "      <td>sub-984757368</td>\n",
       "      <td>-0.291787</td>\n",
       "    </tr>\n",
       "    <tr>\n",
       "      <th>1591</th>\n",
       "      <td>sub-987544292</td>\n",
       "      <td>-0.163182</td>\n",
       "    </tr>\n",
       "  </tbody>\n",
       "</table>\n",
       "<p>531 rows × 2 columns</p>\n",
       "</div>"
      ],
      "text/plain": [
       "          subject_id  predicted_p_factor\n",
       "1060  sub-1000881804           -0.303607\n",
       "1061   sub-100527940           -0.969414\n",
       "1062  sub-1006151876            0.312216\n",
       "1063  sub-1012530688           -0.453715\n",
       "1064  sub-1030193285            0.039921\n",
       "...              ...                 ...\n",
       "1587   sub-969649154           -0.426499\n",
       "1588   sub-970890500            0.277319\n",
       "1589   sub-975856179           -0.562780\n",
       "1590   sub-984757368           -0.291787\n",
       "1591   sub-987544292           -0.163182\n",
       "\n",
       "[531 rows x 2 columns]"
      ]
     },
     "execution_count": 4,
     "metadata": {},
     "output_type": "execute_result"
    }
   ],
   "source": [
    "# save to a df\n",
    "test['predicted_p_factor'] = p_factor_predictions\n",
    "prediction_df = test[['subject_id', 'predicted_p_factor']]\n",
    "prediction_df"
   ]
  },
  {
   "cell_type": "code",
   "execution_count": 5,
   "id": "2bf7db61-b43a-4bbf-8e8f-9b1bc2d06d0c",
   "metadata": {},
   "outputs": [
    {
     "data": {
      "text/plain": [
       "<Axes: >"
      ]
     },
     "execution_count": 5,
     "metadata": {},
     "output_type": "execute_result"
    },
    {
     "data": {
      "image/png": "[encoded data removed]",
      "text/plain": [
       "<Figure size 640x480 with 1 Axes>"
      ]
     },
     "metadata": {},
     "output_type": "display_data"
    }
   ],
   "source": [
    "prediction_df['predicted_p_factor'].hist()"
   ]
  },
  {
   "cell_type": "code",
   "execution_count": 6,
   "id": "51b1a143-f9ea-465c-8a1e-37708bb01d6a",
   "metadata": {},
   "outputs": [],
   "source": [
    "prediction_df.to_csv(\"results/predicted_p_factor.csv\", index=False)"
   ]
  }
 ],
 "metadata": {
  "kernelspec": {
   "display_name": "Python 3 (ipykernel)",
   "language": "python",
   "name": "python3"
  },
  "language_info": {
   "codemirror_mode": {
    "name": "ipython",
    "version": 3
   },
   "file_extension": ".py",
   "mimetype": "text/x-python",
   "name": "python",
   "nbconvert_exporter": "python",
   "pygments_lexer": "ipython3",
   "version": "3.11.11"
  }
 },
 "nbformat": 4,
 "nbformat_minor": 5
}
